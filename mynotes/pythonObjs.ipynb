{
 "cells": [
  {
   "cell_type": "code",
   "execution_count": 7,
   "metadata": {},
   "outputs": [
    {
     "name": "stdout",
     "output_type": "stream",
     "text": [
      "Hello\n",
      "World\n"
     ]
    }
   ],
   "source": [
    "msg = \"Hello\"\n",
    "print(msg)\n",
    "print(\"World\")"
   ]
  },
  {
   "cell_type": "code",
   "execution_count": 1,
   "metadata": {},
   "outputs": [
    {
     "name": "stdout",
     "output_type": "stream",
     "text": [
      "The fox brown quick\n",
      "The quick brown fox\n",
      "The quick brown fox\n",
      "The result was 0.129\n"
     ]
    }
   ],
   "source": [
    "# string formating with .format() method\n",
    "print('The {} {} {}'.format('fox', 'brown', 'quick'))\n",
    "# print The fox brown quick\n",
    "\n",
    "# you can assign the index to get a specfic order of the order\n",
    "print('The {2} {1} {0}'.format('fox', 'brown', 'quick'))\n",
    "# prints The quick brown fox\n",
    "\n",
    "# you can also assign a variable directly in format and access those variables\n",
    "# assigning one variable will require to assign the rest with a variable too\n",
    "print('The {q} {b} {f}'.format(f='fox', b='brown', q='quick'))\n",
    "# prints The quick brown fox\n",
    "\n",
    "# float formating: {value:width.precision f}\n",
    "sol = 100/777\n",
    "print(\"The result was {r:1.3f}\".format(r= sol))\n",
    "# width describes the white space\n",
    "# precision = number of decimal values\n",
    "# do not forget the f"
   ]
  },
  {
   "cell_type": "code",
   "execution_count": 2,
   "metadata": {},
   "outputs": [
    {
     "name": "stdout",
     "output_type": "stream",
     "text": [
      "Hello, my name is Jose\n"
     ]
    }
   ],
   "source": [
    "# f strings literal (string formating)\n",
    "name = 'Jose'\n",
    "print(f'Hello, my name is {name}')"
   ]
  },
  {
   "cell_type": "code",
   "execution_count": 17,
   "metadata": {},
   "outputs": [
    {
     "name": "stdout",
     "output_type": "stream",
     "text": [
      "list after appending seven:  ['one', 'two', 'three', 'seven']\n",
      "list after popping seven:  ['one', 'two', 'three']\n",
      "item popped from list:  two\n",
      "list after popping from a specific index:  ['one', 'three']\n",
      "list before sort:  [2, 5, 3, 7, 9, 0]\n",
      "list is sorted:  [0, 2, 3, 5, 7, 9]\n"
     ]
    }
   ],
   "source": [
    "# python lists\n",
    "# a list can hold any elements even if they are different types\n",
    "# u can use len, slice, concatenation on list too\n",
    "new_list = [\"one\", 'two', \"three\"]\n",
    "new_list.append('seven')\n",
    "print('list after appending seven: ', new_list)\n",
    "new_list.pop()\n",
    "print('list after popping seven: ', new_list)\n",
    "\n",
    "# you can also specific which index to pop\n",
    "popped_item = new_list.pop(1)\n",
    "print('item popped from list: ', popped_item)\n",
    "print('list after popping from a specific index: ', new_list)\n",
    "\n",
    "# sort function, in place\n",
    "unsorted = [2, 5, 3, 7, 9 , 0]\n",
    "print('list before sort: ', unsorted)\n",
    "unsorted.sort()\n",
    "print('list is sorted: ', unsorted)\n",
    "\n",
    "\n"
   ]
  },
  {
   "cell_type": "code",
   "execution_count": 18,
   "metadata": {},
   "outputs": [
    {
     "data": {
      "text/plain": [
       "2"
      ]
     },
     "execution_count": 18,
     "metadata": {},
     "output_type": "execute_result"
    }
   ],
   "source": [
    "# dictionaries - key value pair\n",
    "# unordered mappings for objects\n",
    "# keys should always be strings\n",
    "\n",
    "# tuples\n",
    "# u can use len, slicing, indexing\n",
    "# t.count(value) => counts how many times a value appears in the tuple\n",
    "t = ('a', 'a', 'b')\n",
    "t.count('a')\n",
    "# usually used later on for maintaining integrety"
   ]
  },
  {
   "cell_type": "code",
   "execution_count": 23,
   "metadata": {},
   "outputs": [
    {
     "data": {
      "text/plain": [
       "{0, 1, 2, 3, 4}"
      ]
     },
     "execution_count": 23,
     "metadata": {},
     "output_type": "execute_result"
    }
   ],
   "source": [
    "# sets = unorder collections of unique elemetns\n",
    "my_set = set()\n",
    "# need to intialize\n",
    "my_set.add(1)\n",
    "my_set.add(2)\n",
    "my_set\n",
    "# you can pass an array into the set to find all unique values\n",
    "rand_lis = [1,1,1,2,3,4,0,2,3,4,1]\n",
    "set(rand_lis)\n",
    "\n"
   ]
  },
  {
   "cell_type": "code",
   "execution_count": null,
   "metadata": {},
   "outputs": [],
   "source": [
    "# this command is only available on jypiter notebooks\n",
    "%%writefile myfile.txt\n",
    "Hello, this is a file\n",
    "This is the second line\n",
    "This is the third line "
   ]
  },
  {
   "cell_type": "code",
   "execution_count": 33,
   "metadata": {},
   "outputs": [
    {
     "data": {
      "text/plain": [
       "'Hello, this is a file\\nThis is the second line\\nThis is the third line \\n'"
      ]
     },
     "execution_count": 33,
     "metadata": {},
     "output_type": "execute_result"
    }
   ],
   "source": [
    "myfile = open('myfile.txt')\n",
    "myfile.read()"
   ]
  },
  {
   "cell_type": "code",
   "execution_count": 35,
   "metadata": {},
   "outputs": [
    {
     "data": {
      "text/plain": [
       "'Hello, this is a file\\nThis is the second line\\nThis is the third line \\n'"
      ]
     },
     "execution_count": 35,
     "metadata": {},
     "output_type": "execute_result"
    }
   ],
   "source": [
    "# move the cursor back to the beginning\n",
    "myfile.seek(0)\n",
    "myfile.read()"
   ]
  },
  {
   "cell_type": "code",
   "execution_count": 36,
   "metadata": {},
   "outputs": [
    {
     "data": {
      "text/plain": [
       "['Hello, this is a file\\n',\n",
       " 'This is the second line\\n',\n",
       " 'This is the third line \\n']"
      ]
     },
     "execution_count": 36,
     "metadata": {},
     "output_type": "execute_result"
    }
   ],
   "source": [
    "myfile.seek(0)\n",
    "myfile.readlines()\n",
    "# this allows you to read it"
   ]
  },
  {
   "cell_type": "code",
   "execution_count": 44,
   "metadata": {},
   "outputs": [
    {
     "name": "stdout",
     "output_type": "stream",
     "text": [
      "Overwriting file2.txt\n"
     ]
    }
   ],
   "source": [
    "%%writefile file2.txt\n",
    "File 2 \n",
    "second line\n",
    "third line "
   ]
  },
  {
   "cell_type": "code",
   "execution_count": 45,
   "metadata": {},
   "outputs": [
    {
     "name": "stdout",
     "output_type": "stream",
     "text": [
      "File 2 \n",
      "second line\n",
      "third line \n",
      "\n"
     ]
    }
   ],
   "source": [
    "# way to open files without needing to close them\n",
    "with open('file2.txt', mode='r') as f:\n",
    "    print(f.read())\n",
    "\n",
    "# different modes\n",
    "# w = write\n",
    "# r = read\n",
    "# a = append"
   ]
  }
 ],
 "metadata": {
  "kernelspec": {
   "display_name": "Python 3",
   "language": "python",
   "name": "python3"
  },
  "language_info": {
   "codemirror_mode": {
    "name": "ipython",
    "version": 3
   },
   "file_extension": ".py",
   "mimetype": "text/x-python",
   "name": "python",
   "nbconvert_exporter": "python",
   "pygments_lexer": "ipython3",
   "version": "3.10.13"
  }
 },
 "nbformat": 4,
 "nbformat_minor": 2
}
