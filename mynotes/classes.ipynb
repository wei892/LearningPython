{
 "cells": [
  {
   "cell_type": "code",
   "execution_count": 2,
   "metadata": {},
   "outputs": [
    {
     "name": "stdout",
     "output_type": "stream",
     "text": [
      "<class '__main__.Sample'>\n"
     ]
    }
   ],
   "source": [
    "#example class\n",
    "\n",
    "class Sample:\n",
    "    pass\n",
    "\n",
    "x = Sample()\n",
    "print(type(x))\n"
   ]
  },
  {
   "cell_type": "code",
   "execution_count": 13,
   "metadata": {},
   "outputs": [
    {
     "name": "stdout",
     "output_type": "stream",
     "text": [
      "Sam\n",
      "Rufus\n",
      "Woof\n"
     ]
    }
   ],
   "source": [
    "#initializing attributes\n",
    "\n",
    "class Dog:\n",
    "    def __init__(self, breed):\n",
    "        self.breed = breed\n",
    "\n",
    "sam = Dog(breed='Lab')\n",
    "# init uses double underscores\n",
    "\n",
    "sam.breed\n",
    "# you can access them like this\n",
    "# no parenthesis => its not method but an attribute\n",
    "\n",
    "class Dog:\n",
    "    # this is a class object attribute \n",
    "    # will be the same for all instances of the dog class\n",
    "    species = 'mammal'\n",
    "\n",
    "    # these attributes are set after each declaration\n",
    "    def __init__(self, breed, name):\n",
    "        self.breed = breed\n",
    "        self.name = name\n",
    "\n",
    "    # you can declare methods \n",
    "    def speak(self):\n",
    "        print(\"Woof\")\n",
    "    \n",
    "\n",
    "rufus = Dog('Lab', 'Rufus')\n",
    "sam = Dog(breed = 'Lab', name ='Sam')\n",
    "# both ways work to initialize an object\n",
    "# first way is easier\n",
    "\n",
    "print(sam.name)\n",
    "print(rufus.name)\n",
    "sam.speak()\n",
    "\n",
    "# inheritance\n",
    "class Puppy(Dog):\n",
    "    def __init__(self, breed, name):\n",
    "        super().__init__(breed, name)\n",
    "\n",
    "\n"
   ]
  },
  {
   "cell_type": "code",
   "execution_count": null,
   "metadata": {},
   "outputs": [],
   "source": []
  }
 ],
 "metadata": {
  "kernelspec": {
   "display_name": "Python 3",
   "language": "python",
   "name": "python3"
  },
  "language_info": {
   "codemirror_mode": {
    "name": "ipython",
    "version": 3
   },
   "file_extension": ".py",
   "mimetype": "text/x-python",
   "name": "python",
   "nbconvert_exporter": "python",
   "pygments_lexer": "ipython3",
   "version": "3.10.13"
  }
 },
 "nbformat": 4,
 "nbformat_minor": 2
}
